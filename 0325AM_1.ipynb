{
  "nbformat": 4,
  "nbformat_minor": 0,
  "metadata": {
    "colab": {
      "provenance": [],
      "authorship_tag": "ABX9TyMfsA44zlh9QHqd8xbJ8t23",
      "include_colab_link": true
    },
    "kernelspec": {
      "name": "python3",
      "display_name": "Python 3"
    },
    "language_info": {
      "name": "python"
    }
  },
  "cells": [
    {
      "cell_type": "markdown",
      "metadata": {
        "id": "view-in-github",
        "colab_type": "text"
      },
      "source": [
        "<a href=\"https://colab.research.google.com/github/LiYun-Chang/KMU/blob/main/0325AM_1.ipynb\" target=\"_parent\"><img src=\"https://colab.research.google.com/assets/colab-badge.svg\" alt=\"Open In Colab\"/></a>"
      ]
    },
    {
      "cell_type": "code",
      "execution_count": null,
      "metadata": {
        "id": "WHYso9OFbRDV"
      },
      "outputs": [],
      "source": []
    },
    {
      "cell_type": "markdown",
      "source": [
        "Latex math \n",
        "$ \\frac{1}{2} \\sum_{i=1}^n (x-\\mu)^2 $"
      ],
      "metadata": {
        "id": "iA6HS6Y9ckuB"
      }
    },
    {
      "cell_type": "markdown",
      "source": [
        "http://github.com/Elwing-Chou/kmu"
      ],
      "metadata": {
        "id": "-tkYDa2GgxrU"
      }
    },
    {
      "cell_type": "markdown",
      "source": [
        "JSON格式: \n",
        "1. List 型態 (同類型): [60, 30, 20]\n",
        "2. dict 型態 (聚集表示複雜型態): {\"姓名\":\"LiYun\", \"身高\":\"163\"}\n",
        "\n",
        "key-value \n",
        "1. list: key1(0, 1, 2) key2(-3, -2, -1)\n",
        "2. dict: key自定義(數字/字串/tuple)\n",
        "\n",
        "Key-value最重要的操作(查詢操作)：要查的東西[key]\n",
        "\n",
        "list[0]/dict[\"姓名\"]"
      ],
      "metadata": {
        "id": "1GMTyjOGljc8"
      }
    },
    {
      "cell_type": "code",
      "source": [
        "import json\n",
        "import pandas as pd\n",
        "import urllib.request as req\n",
        "\n",
        "url = \"https://www.google.com/doodles/json/2023/1?hl=zh-TW\"\n",
        "response = req.urlopen(url)\n",
        "# response -> 檔案型態(支援.read())\n",
        "# json.load(檔案) -> list/dict型態\n",
        "data_json = json.load(response)\n",
        "# pd.DataFrame(表格型態)\n",
        "data_table = pd.json_normalize(data_json)\n",
        "# 如果要存檔\n",
        "data_table.to_csv(\"doodle.csv\", encoding=\"utf-8\")"
      ],
      "metadata": {
        "id": "95K51szB2JJa"
      },
      "execution_count": 2,
      "outputs": []
    },
    {
      "cell_type": "code",
      "source": [
        "import json\n",
        "import pandas as pd\n",
        "import urllib.request as req\n",
        "\n",
        "url = \"https://www.google.com/doodles/json/2022/11?hl=zh-TW\"\n",
        "response = req.urlopen(url)\n",
        "# response->檔案型態(支援.read())\n",
        "# json.load(檔案) -> list/dict型態\n",
        "data_json = json.load(response)\n",
        "# pd.DataFrame(表格型態)\n",
        "data_table = pd.json_normalize(data_json)\n",
        "# 如果你要存檔\n",
        "data_table.to_csv(\"doodle.csv\", encoding=\"utf-8\")"
      ],
      "metadata": {
        "id": "wJ-TEUs3sf2J"
      },
      "execution_count": null,
      "outputs": []
    },
    {
      "cell_type": "markdown",
      "source": [
        "1. 每一個商品存成一個JSON檔案"
      ],
      "metadata": {
        "id": "AtfkX_e41_Om"
      }
    },
    {
      "cell_type": "code",
      "source": [
        "# open -> read -> close 會出現前面有問題，後面動作就無法完成\n",
        "# with ... as 保證會close\n",
        "import os \n",
        "base = \"google\"\n",
        "if not os.path.exists(base):\n",
        "    os.makedirs(base)\n",
        "\n",
        "with open(\"2022_11.json\", \"w\", encoding=\"utf-8\") as f:\n",
        "    json.dump(data_json, \n",
        "    f,\n",
        "    ensure_ascii=False,\n",
        "    indent=4)\n",
        "# 最常做: 把每個資料都成一個json\n",
        "for pic in data_json:\n",
        "    imgurl = \"https:\" + pic[\"high_res_url\"]\n",
        "    fn = (imgurl.split(\"/\")[-1])\n",
        "    fp = os.path.join(base, fn)\n",
        "    # 下載圖片\n",
        "    req.urlretrieve(imgurl, fp)\n",
        "    fn = fn.split(\".\")[0] + \".json\"\n",
        "    fp = os.path.join(base, fn)\n",
        "    with open(fp, \"w\", encoding=\"utf-8\") as f:\n",
        "        json.dump(pic,\n",
        "             f,\n",
        "              ensure_ascii=False,\n",
        "              indent=4)\n",
        "    print(fn)"
      ],
      "metadata": {
        "colab": {
          "base_uri": "https://localhost:8080/"
        },
        "id": "aebioWHG2Cx3",
        "outputId": "9f9547ca-d81b-470b-8a71-8b32678a5b9d"
      },
      "execution_count": 3,
      "outputs": [
        {
          "output_type": "stream",
          "name": "stdout",
          "text": [
            "celebrating-bubble-tea-6753651837109839.json\n",
            "luz-jimenezs-126th-birthday-6753651837110110-2x.json\n",
            "czech-presidential-election-2023-round-2-6753651837110015-2x.json\n",
            "india-republic-day-2023-6753651837110023.json\n",
            "adelaide-cabetes-156th-birthday-6753651837109834-2x.json\n",
            "lunar-new-year-2023-vietnam-6753651837109837-2x.json\n",
            "lunar-new-year-2023-south-korea-6753651837109838.json\n",
            "lunar-new-year-2023-6753651837109569.json\n",
            "sachio-kinugasas-76th-birthday-6753651837110021-2x.json\n",
            "dr-martin-luther-king-jr-day-2023-6753651837109836.json\n",
            "karima-mokhtars-88th-birthday-6753651837109567-2x.json\n",
            "teachers-day-2023-jan-16-6753651837109835-2xa.json\n",
            "khashaba-dadasaheb-jadhavs-97th-birthday-6753651837110020-2x.json\n",
            "enedina-alves-marques-110th-birthday-6753651837110019-2x.json\n",
            "czech-presidential-election-2023-round-1-6753651837110014.json\n",
            "celebrating-ihsan-abdel-kouddous-6753651837109176-2x.json\n",
            "new-years-day-2023-6753651837109566.json\n"
          ]
        }
      ]
    },
    {
      "cell_type": "markdown",
      "source": [
        "還原成json"
      ],
      "metadata": {
        "id": "XbWsqclKTTzp"
      }
    },
    {
      "cell_type": "code",
      "source": [
        "import glob\n",
        "pics = [] \n",
        "for fp in glob.glob(\"google/*.json\"):\n",
        "    with open(fp,\"r\", encoding=\"utf-8\") as f:\n",
        "        p = json.load(f)\n",
        "        pocs.append(p)\n",
        "pics"
      ],
      "metadata": {
        "colab": {
          "base_uri": "https://localhost:8080/"
        },
        "id": "w8k_4PFbS28f",
        "outputId": "c14f6038-6998-40c8-ecb1-6e8e9a7d3db4"
      },
      "execution_count": 4,
      "outputs": [
        {
          "output_type": "execute_result",
          "data": {
            "text/plain": [
              "['google/lunar-new-year-2023-6753651837109569.json',\n",
              " 'google/celebrating-bubble-tea-6753651837109839.json',\n",
              " 'google/enedina-alves-marques-110th-birthday-6753651837110019-2x.json',\n",
              " 'google/dr-martin-luther-king-jr-day-2023-6753651837109836.json',\n",
              " 'google/india-republic-day-2023-6753651837110023.json',\n",
              " 'google/czech-presidential-election-2023-round-2-6753651837110015-2x.json',\n",
              " 'google/adelaide-cabetes-156th-birthday-6753651837109834-2x.json',\n",
              " 'google/sachio-kinugasas-76th-birthday-6753651837110021-2x.json',\n",
              " 'google/luz-jimenezs-126th-birthday-6753651837110110-2x.json',\n",
              " 'google/khashaba-dadasaheb-jadhavs-97th-birthday-6753651837110020-2x.json',\n",
              " 'google/celebrating-ihsan-abdel-kouddous-6753651837109176-2x.json',\n",
              " 'google/new-years-day-2023-6753651837109566.json',\n",
              " 'google/karima-mokhtars-88th-birthday-6753651837109567-2x.json',\n",
              " 'google/lunar-new-year-2023-south-korea-6753651837109838.json',\n",
              " 'google/teachers-day-2023-jan-16-6753651837109835-2xa.json',\n",
              " 'google/czech-presidential-election-2023-round-1-6753651837110014.json',\n",
              " 'google/lunar-new-year-2023-vietnam-6753651837109837-2x.json']"
            ]
          },
          "metadata": {},
          "execution_count": 4
        }
      ]
    }
  ]
}