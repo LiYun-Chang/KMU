{
  "nbformat": 4,
  "nbformat_minor": 0,
  "metadata": {
    "colab": {
      "provenance": []
    },
    "kernelspec": {
      "name": "python3",
      "display_name": "Python 3"
    },
    "language_info": {
      "name": "python"
    }
  },
  "cells": [
    {
      "cell_type": "code",
      "execution_count": null,
      "metadata": {
        "id": "WHYso9OFbRDV"
      },
      "outputs": [],
      "source": []
    },
    {
      "cell_type": "markdown",
      "source": [
        "Latex math \n",
        "$ \\frac{1}{2} \\sum_{i=1}^n (x-\\mu)^2 $"
      ],
      "metadata": {
        "id": "iA6HS6Y9ckuB"
      }
    },
    {
      "cell_type": "markdown",
      "source": [
        "http://github.com/Elwing-Chou/kmu"
      ],
      "metadata": {
        "id": "-tkYDa2GgxrU"
      }
    },
    {
      "cell_type": "markdown",
      "source": [
        "JSON格式: \n",
        "1. List 型態 (同類型): [60, 30, 20]\n",
        "2. dict 型態 (聚集表示複雜型態): {\"姓名\":\"LiYun\", \"身高\":\"163\"}\n",
        "\n",
        "key-value \n",
        "1. list: key1(0, 1, 2) key2(-3, -2, -1)\n",
        "2. dict: key自定義(數字/字串/tuple)\n",
        "\n",
        "Key-value最重要的操作(查詢操作)：要查的東西[key]\n",
        "\n",
        "list[0]/dict[\"姓名\"]"
      ],
      "metadata": {
        "id": "1GMTyjOGljc8"
      }
    },
    {
      "cell_type": "code",
      "source": [
        "import json\n",
        "import pandas as pd\n",
        "import urllib.request as req\n",
        "\n",
        "url = \"https://www.google.com/doodles/json/2022/11?hl=zh-TW\"\n",
        "response = req.urlopen(url)\n",
        "# response->檔案型態(支援.read())\n",
        "# json.load(檔案) -> list/dict型態\n",
        "data_json = json.load(response)\n",
        "# pd.DataFrame(表格型態)\n",
        "data_table = pd.json_normalize(data_json)\n",
        "# 如果你要存檔\n",
        "data_table.to_csv(\"doodle.csv\", encoding=\"utf-8\")"
      ],
      "metadata": {
        "id": "wJ-TEUs3sf2J"
      },
      "execution_count": null,
      "outputs": []
    }
  ]
}